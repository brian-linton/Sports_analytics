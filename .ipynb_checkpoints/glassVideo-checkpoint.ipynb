{
 "cells": [
  {
   "cell_type": "code",
   "execution_count": 1,
   "metadata": {},
   "outputs": [
    {
     "name": "stdout",
     "output_type": "stream",
     "text": [
      " Volume in drive C is OS\n",
      " Volume Serial Number is B823-DDFD\n",
      "\n",
      " Directory of C:\\Users\\linto\\Desktop\\ML Pitcher Lines\\Sports_analytics\n",
      "\n",
      "03/25/2020  03:24 PM    <DIR>          .\n",
      "03/25/2020  03:24 PM    <DIR>          ..\n",
      "03/25/2020  03:24 PM    <DIR>          .ipynb_checkpoints\n",
      "03/24/2020  10:26 PM         8,029,638 2014_2019_edited_fullstats.csv\n",
      "03/24/2020  10:39 PM               820 glassVideo.ipynb\n",
      "03/24/2020  10:26 PM           818,417 masterlist_1719.csv\n",
      "               3 File(s)      8,848,875 bytes\n",
      "               3 Dir(s)  78,373,822,464 bytes free\n"
     ]
    }
   ],
   "source": [
    "ls"
   ]
  },
  {
   "cell_type": "code",
   "execution_count": null,
   "metadata": {},
   "outputs": [],
   "source": []
  }
 ],
 "metadata": {
  "kernelspec": {
   "display_name": "Python 3",
   "language": "python",
   "name": "python3"
  },
  "language_info": {
   "codemirror_mode": {
    "name": "ipython",
    "version": 3
   },
   "file_extension": ".py",
   "mimetype": "text/x-python",
   "name": "python",
   "nbconvert_exporter": "python",
   "pygments_lexer": "ipython3",
   "version": "3.7.6"
  }
 },
 "nbformat": 4,
 "nbformat_minor": 4
}
